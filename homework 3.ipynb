{
 "cells": [
  {
   "cell_type": "code",
   "execution_count": 49,
   "id": "7540c1c6",
   "metadata": {},
   "outputs": [],
   "source": [
    "import numpy as np\n",
    "import pandas as pd\n",
    "from sklearn.datasets import load_breast_cancer"
   ]
  },
  {
   "cell_type": "code",
   "execution_count": 50,
   "id": "b0d4104a",
   "metadata": {},
   "outputs": [],
   "source": [
    "\n",
    "cancer = load_breast_cancer()"
   ]
  },
  {
   "cell_type": "code",
   "execution_count": 51,
   "id": "9fe34cbe",
   "metadata": {},
   "outputs": [
    {
     "data": {
      "text/plain": [
       "dict_keys(['data', 'target', 'frame', 'target_names', 'DESCR', 'feature_names', 'filename', 'data_module'])"
      ]
     },
     "execution_count": 51,
     "metadata": {},
     "output_type": "execute_result"
    }
   ],
   "source": [
    "cancer.keys()"
   ]
  },
  {
   "cell_type": "markdown",
   "id": "f014e882",
   "metadata": {},
   "source": [
    "Question 1"
   ]
  },
  {
   "cell_type": "code",
   "execution_count": 52,
   "id": "ed78b9c7",
   "metadata": {},
   "outputs": [],
   "source": [
    "def answer_one():\n",
    "    data = np.c_[cancer.data, cancer.target]\n",
    "    columns = np.append(cancer.feature_names, [\"target\"])\n",
    "    return pd.DataFrame(data, columns=columns)"
   ]
  },
  {
   "cell_type": "code",
   "execution_count": 53,
   "id": "5b8969f0",
   "metadata": {},
   "outputs": [],
   "source": [
    "frame = answer_one()\n",
    "assert frame.shape == (len(cancer.target), 31)"
   ]
  },
  {
   "cell_type": "markdown",
   "id": "8ea16141",
   "metadata": {},
   "source": [
    "Question 2"
   ]
  },
  {
   "cell_type": "code",
   "execution_count": 54,
   "id": "883a2649",
   "metadata": {},
   "outputs": [],
   "source": [
    "def answer_two():\n",
    "    cancerdf = answer_one()\n",
    "    counts = cancerdf.target.value_counts(ascending=True)\n",
    "    counts.index = \"malignant benign\".split()\n",
    "    return counts"
   ]
  },
  {
   "cell_type": "code",
   "execution_count": 55,
   "id": "3cb32b36",
   "metadata": {},
   "outputs": [],
   "source": [
    "output = answer_two()\n",
    "assert output.malignant == 212\n",
    "assert output.benign == 357"
   ]
  },
  {
   "cell_type": "markdown",
   "id": "be29f4a7",
   "metadata": {},
   "source": [
    "Question 3"
   ]
  },
  {
   "cell_type": "code",
   "execution_count": 56,
   "id": "395a92ca",
   "metadata": {},
   "outputs": [],
   "source": [
    "def answer_three():\n",
    "    cancerdf = answer_one()\n",
    "    X = cancerdf[cancerdf.columns[:-1]]\n",
    "    y = cancerdf.target\n",
    "    return X, y"
   ]
  },
  {
   "cell_type": "code",
   "execution_count": 57,
   "id": "c8f50d55",
   "metadata": {},
   "outputs": [],
   "source": [
    "x, y = answer_three()\n",
    "assert x.shape == (569, 30)\n",
    "assert y.shape == (569,)"
   ]
  },
  {
   "cell_type": "markdown",
   "id": "bf0a5ea2",
   "metadata": {},
   "source": [
    "Question 4"
   ]
  },
  {
   "cell_type": "code",
   "execution_count": 58,
   "id": "d4445713",
   "metadata": {},
   "outputs": [],
   "source": [
    "from sklearn.model_selection import train_test_split\n",
    "\n",
    "def answer_four():\n",
    "    \"\"\"splits data into training and testing sets\n",
    "\n",
    "    Returns:\n",
    "     tuple(pandas.DataFrame): x_train, y_train, x_test, y_test\n",
    "    \"\"\"\n",
    "    X, y = answer_three()\n",
    "    return train_test_split(X, y, train_size=426, test_size=143, random_state=0)"
   ]
  },
  {
   "cell_type": "code",
   "execution_count": 59,
   "id": "ecaf17b0",
   "metadata": {},
   "outputs": [],
   "source": [
    "x_train, x_test, y_train, y_test = answer_four()\n",
    "assert x_train.shape == (426, 30)\n",
    "assert x_test.shape == (143, 30)\n",
    "assert y_train.shape == (426,)\n",
    "assert y_test.shape == (143,)"
   ]
  },
  {
   "cell_type": "markdown",
   "id": "67217318",
   "metadata": {},
   "source": [
    "Question 5"
   ]
  },
  {
   "cell_type": "code",
   "execution_count": 60,
   "id": "338d9f92",
   "metadata": {},
   "outputs": [],
   "source": [
    "from sklearn.neighbors import KNeighborsClassifier\n",
    "\n",
    "def answer_five():\n",
    "    X_train, X_test, y_train, y_test = answer_four()\n",
    "    model = KNeighborsClassifier(n_neighbors=1)\n",
    "    model.fit(X_train, y_train)\n",
    "    return model"
   ]
  },
  {
   "cell_type": "code",
   "execution_count": 61,
   "id": "cd9eafda",
   "metadata": {},
   "outputs": [],
   "source": [
    "knn = answer_five()\n",
    "assert type(knn) == KNeighborsClassifier\n",
    "assert knn.n_neighbors == 1"
   ]
  },
  {
   "cell_type": "markdown",
   "id": "c0dcecd5",
   "metadata": {},
   "source": [
    "Question 6"
   ]
  },
  {
   "cell_type": "code",
   "execution_count": 62,
   "id": "993ce6c4",
   "metadata": {},
   "outputs": [],
   "source": [
    "def answer_six():\n",
    "    cancerdf = answer_one()\n",
    "    means = cancerdf.mean()[:-1].values.reshape(1, -1)\n",
    "    model = answer_five()\n",
    "    return model.predict(means)"
   ]
  },
  {
   "cell_type": "markdown",
   "id": "89131c70",
   "metadata": {},
   "source": [
    "Question 7"
   ]
  },
  {
   "cell_type": "code",
   "execution_count": 63,
   "id": "28c363c1",
   "metadata": {},
   "outputs": [],
   "source": [
    "def answer_seven():\n",
    "    \"\"\"predicts likelihood of cancer for test set\n",
    "\n",
    "    Returns:\n",
    "     numpy.array: vector of predictions\n",
    "    \"\"\"\n",
    "    X_train, X_test, y_train, y_test = answer_four()\n",
    "    knn = answer_five()\n",
    "    return knn.predict(X_test)"
   ]
  },
  {
   "cell_type": "code",
   "execution_count": 64,
   "id": "b768dcfa",
   "metadata": {},
   "outputs": [],
   "source": [
    "predictions = answer_seven()\n",
    "assert predictions.shape == (143,)\n",
    "assert set(predictions) == {0.0, 1.0}"
   ]
  },
  {
   "cell_type": "code",
   "execution_count": 65,
   "id": "fb61ff0b",
   "metadata": {},
   "outputs": [
    {
     "name": "stdout",
     "output_type": "stream",
     "text": [
      "no cancer: 51\n",
      "cancer: 92\n"
     ]
    }
   ],
   "source": [
    "print(\"no cancer: {0}\".format(len(predictions[predictions==0])))\n",
    "print(\"cancer: {0}\".format(len(predictions[predictions==1])))"
   ]
  },
  {
   "cell_type": "markdown",
   "id": "4986080b",
   "metadata": {},
   "source": [
    "Question 8"
   ]
  },
  {
   "cell_type": "code",
   "execution_count": 66,
   "id": "9cffc9dc",
   "metadata": {},
   "outputs": [],
   "source": [
    "def answer_eight():\n",
    "    \"\"\"calculates the mean accuracy of the KNN model\n",
    "\n",
    "    Returns:\n",
    "     float: mean accuracy of the model predicting cancer\n",
    "    \"\"\"\n",
    "    X_train, X_test, y_train, y_test = answer_four()\n",
    "    knn = answer_five()\n",
    "    return knn.score(X_test, y_test)"
   ]
  },
  {
   "cell_type": "code",
   "execution_count": 67,
   "id": "f8c7e862",
   "metadata": {},
   "outputs": [],
   "source": [
    "def accuracy_plot():\n",
    "    import matplotlib.pyplot as plt\n",
    "\n",
    "    X_train, X_test, y_train, y_test = answer_four()\n",
    "\n",
    "    # Find the training and testing accuracies by target value (i.e. malignant, benign)\n",
    "    mal_train_X = X_train[y_train==0]\n",
    "    mal_train_y = y_train[y_train==0]\n",
    "    ben_train_X = X_train[y_train==1]\n",
    "    ben_train_y = y_train[y_train==1]\n",
    "\n",
    "    mal_test_X = X_test[y_test==0]\n",
    "    mal_test_y = y_test[y_test==0]\n",
    "    ben_test_X = X_test[y_test==1]\n",
    "    ben_test_y = y_test[y_test==1]\n",
    "\n",
    "    knn = answer_five()\n",
    "\n",
    "    scores = [knn.score(mal_train_X, mal_train_y), knn.score(ben_train_X, ben_train_y),\n",
    "              knn.score(mal_test_X, mal_test_y), knn.score(ben_test_X, ben_test_y)]\n",
    "\n",
    "\n",
    "    plt.figure()\n",
    "\n",
    "    # Plot the scores as a bar chart\n",
    "    bars = plt.bar(np.arange(4), scores, color=['#4c72b0','#4c72b0','#55a868','#55a868'])\n",
    "\n",
    "    # directly label the score onto the bars\n",
    "    for bar in bars:\n",
    "        height = bar.get_height()\n",
    "        plt.gca().text(bar.get_x() + bar.get_width()/2, height*.90, '{0:.{1}f}'.format(height, 2),\n",
    "                     ha='center', color='w', fontsize=11)\n",
    "\n",
    "    # remove all the ticks (both axes), and tick labels on the Y axis\n",
    "    plt.tick_params(top='off', bottom='off', left='off', right='off', labelleft='off', labelbottom='on')\n",
    "\n",
    "    # remove the frame of the chart\n",
    "    for spine in plt.gca().spines.values():\n",
    "        spine.set_visible(False)\n",
    "\n",
    "    plt.xticks([0,1,2,3], ['Malignant\\nTraining', 'Benign\\nTraining', 'Malignant\\nTest', 'Benign\\nTest'], alpha=0.8);\n",
    "    plt.title('Training and Test Accuracies for Malignant and Benign Cells', alpha=0.8)"
   ]
  },
  {
   "cell_type": "code",
   "execution_count": 68,
   "id": "cadc96aa",
   "metadata": {},
   "outputs": [
    {
     "data": {
      "image/png": "[encoded data removed]",
      "text/plain": [
       "<Figure size 432x288 with 1 Axes>"
      ]
     },
     "metadata": {
      "needs_background": "light"
     },
     "output_type": "display_data"
    }
   ],
   "source": [
    "accuracy_plot()"
   ]
  }
 ],
 "metadata": {
  "kernelspec": {
   "display_name": "Python 3.9.12 ('base')",
   "language": "python",
   "name": "python3"
  },
  "language_info": {
   "codemirror_mode": {
    "name": "ipython",
    "version": 3
   },
   "file_extension": ".py",
   "mimetype": "text/x-python",
   "name": "python",
   "nbconvert_exporter": "python",
   "pygments_lexer": "ipython3",
   "version": "3.9.12"
  },
  "vscode": {
   "interpreter": {
    "hash": "b302cdd1e032ee910f5c889c3360c28564c92ad4f326fc3102e39fbe47faee66"
   }
  }
 },
 "nbformat": 4,
 "nbformat_minor": 5
}
